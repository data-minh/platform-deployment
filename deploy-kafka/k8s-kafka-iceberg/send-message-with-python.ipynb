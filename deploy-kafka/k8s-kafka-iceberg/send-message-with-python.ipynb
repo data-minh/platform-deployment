{
 "cells": [
  {
   "cell_type": "code",
   "execution_count": 6,
   "metadata": {},
   "outputs": [
    {
     "name": "stdout",
     "output_type": "stream",
     "text": [
      "Dữ liệu đã được gửi thành công!\n"
     ]
    }
   ],
   "source": [
    "import requests\n",
    "\n",
    "# Địa chỉ Kafka REST Proxy và topic\n",
    "# url = \"http://192.168.1.18:31567/topics/test-nessie\"\n",
    "\n",
    "url = \"http://192.168.1.18:32564/topics/topic_demo\"\n",
    "\n",
    "# Headers như trong lệnh curl\n",
    "headers = {\n",
    "    'Content-Type': 'application/vnd.kafka.json.v2+json',\n",
    "    'Accept': 'application/vnd.kafka.v2+json'\n",
    "}\n",
    "\n",
    "# Mở file TransactionsData.json và gửi dữ liệu\n",
    "with open('TransactionsData.json', 'rb') as f:\n",
    "    response = requests.post(url, headers=headers, data=f)\n",
    "\n",
    "# Kiểm tra phản hồi từ server\n",
    "if response.status_code == 200:\n",
    "    print(\"Dữ liệu đã được gửi thành công!\")\n",
    "else:\n",
    "    print(f\"Đã có lỗi xảy ra: {response.status_code}, {response.text}\")\n"
   ]
  }
 ],
 "metadata": {
  "kernelspec": {
   "display_name": "Python 3",
   "language": "python",
   "name": "python3"
  },
  "language_info": {
   "codemirror_mode": {
    "name": "ipython",
    "version": 3
   },
   "file_extension": ".py",
   "mimetype": "text/x-python",
   "name": "python",
   "nbconvert_exporter": "python",
   "pygments_lexer": "ipython3",
   "version": "3.12.5"
  }
 },
 "nbformat": 4,
 "nbformat_minor": 2
}
