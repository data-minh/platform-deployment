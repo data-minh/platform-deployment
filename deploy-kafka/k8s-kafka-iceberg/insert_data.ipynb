{
 "cells": [
  {
   "cell_type": "code",
   "execution_count": 5,
   "metadata": {},
   "outputs": [
    {
     "name": "stdout",
     "output_type": "stream",
     "text": [
      "Đã chèn thành công 10,000 dòng dữ liệu.\n"
     ]
    }
   ],
   "source": [
    "import psycopg2\n",
    "from psycopg2 import extras\n",
    "import random\n",
    "import string\n",
    "\n",
    "# Kết nối đến PostgreSQL\n",
    "conn = psycopg2.connect(\n",
    "    host=\"192.168.1.18\",\n",
    "    port=\"30208\",\n",
    "    database=\"postgres\",  # thay bằng tên database của bạn\n",
    "    user=\"postgres\",           # thay bằng tên user của bạn\n",
    "    password=\"postgres\"        # thay bằng mật khẩu của bạn\n",
    ")\n",
    "\n",
    "# Tạo con trỏ để thực hiện câu lệnh SQL\n",
    "cur = conn.cursor()\n",
    "\n",
    "# Hàm sinh dữ liệu ngẫu nhiên\n",
    "def generate_data(num_rows):\n",
    "    data = []\n",
    "    for _ in range(num_rows):\n",
    "        id = random.randint(1, 10000)\n",
    "        name = ''.join(random.choices(string.ascii_uppercase + string.ascii_lowercase, k=5))\n",
    "        age = random.randint(18, 65)\n",
    "        data.append((id, name, age))\n",
    "    return data\n",
    "\n",
    "# Sinh 10,000 dòng dữ liệu\n",
    "rows_to_insert = generate_data(10000)\n",
    "\n",
    "# Chèn dữ liệu vào bảng\n",
    "insert_query = \"INSERT INTO demo (id, name, age) VALUES %s\"\n",
    "extras.execute_values(cur, insert_query, rows_to_insert)\n",
    "\n",
    "# Commit transaction\n",
    "conn.commit()\n",
    "\n",
    "# Đóng kết nối\n",
    "cur.close()\n",
    "conn.close()\n",
    "\n",
    "print(\"Đã chèn thành công 10,000 dòng dữ liệu.\")\n"
   ]
  }
 ],
 "metadata": {
  "kernelspec": {
   "display_name": "Python 3",
   "language": "python",
   "name": "python3"
  },
  "language_info": {
   "codemirror_mode": {
    "name": "ipython",
    "version": 3
   },
   "file_extension": ".py",
   "mimetype": "text/x-python",
   "name": "python",
   "nbconvert_exporter": "python",
   "pygments_lexer": "ipython3",
   "version": "3.12.5"
  }
 },
 "nbformat": 4,
 "nbformat_minor": 2
}
